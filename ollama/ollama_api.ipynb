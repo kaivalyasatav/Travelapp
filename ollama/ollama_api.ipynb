{
 "cells": [
  {
   "cell_type": "markdown",
   "id": "988859c8-05c2-4ce1-b6f2-385d0cf6443b",
   "metadata": {},
   "source": [
    "# using request"
   ]
  },
  {
   "cell_type": "code",
   "execution_count": 1,
   "id": "e0b55145-720f-4934-ab0c-05df8d8411d1",
   "metadata": {},
   "outputs": [],
   "source": [
    "import requests"
   ]
  },
  {
   "cell_type": "code",
   "execution_count": 11,
   "id": "1ce17d74-3e29-4713-8ace-de4551b7215d",
   "metadata": {},
   "outputs": [],
   "source": [
    "url = \"http://localhost:11434/api/chat\""
   ]
  },
  {
   "cell_type": "code",
   "execution_count": 12,
   "id": "9ae6a7ac-d07a-424f-a273-6e693b28013b",
   "metadata": {},
   "outputs": [],
   "source": [
    "payload = {\n",
    "    \"model\": \"llama3.2:1b\",\n",
    "    \"messages\": [\n",
    "        {\n",
    "            \"role\":\"user\",\n",
    "            \"content\": \"What is capital of India?\"\n",
    "        }\n",
    "    ],\n",
    "    \"stream\": False\n",
    "}"
   ]
  },
  {
   "cell_type": "code",
   "execution_count": 13,
   "id": "4288fae4-f2bd-45ee-b62f-25d18298efcb",
   "metadata": {},
   "outputs": [],
   "source": [
    "res = requests.post(url, json=payload)"
   ]
  },
  {
   "cell_type": "code",
   "execution_count": 14,
   "id": "3e029122-dddd-4007-aef3-9421e9f4d858",
   "metadata": {},
   "outputs": [
    {
     "data": {
      "text/plain": [
       "<Response [200]>"
      ]
     },
     "execution_count": 14,
     "metadata": {},
     "output_type": "execute_result"
    }
   ],
   "source": [
    "res"
   ]
  },
  {
   "cell_type": "code",
   "execution_count": 17,
   "id": "675ef61b-e015-44b3-9a0c-26e6280b28ae",
   "metadata": {},
   "outputs": [
    {
     "data": {
      "text/plain": [
       "{'model': 'llama3.2:1b',\n",
       " 'created_at': '2025-02-26T10:56:06.070863Z',\n",
       " 'message': {'role': 'assistant',\n",
       "  'content': 'The capital of India is New Delhi.'},\n",
       " 'done_reason': 'stop',\n",
       " 'done': True,\n",
       " 'total_duration': 2027791042,\n",
       " 'load_duration': 829766709,\n",
       " 'prompt_eval_count': 31,\n",
       " 'prompt_eval_duration': 971000000,\n",
       " 'eval_count': 9,\n",
       " 'eval_duration': 223000000}"
      ]
     },
     "execution_count": 17,
     "metadata": {},
     "output_type": "execute_result"
    }
   ],
   "source": [
    "res.json()"
   ]
  },
  {
   "cell_type": "code",
   "execution_count": 19,
   "id": "e16ee9d5-fd77-42c3-a4d8-c174dcd67afd",
   "metadata": {},
   "outputs": [
    {
     "data": {
      "text/plain": [
       "'The capital of India is New Delhi.'"
      ]
     },
     "execution_count": 19,
     "metadata": {},
     "output_type": "execute_result"
    }
   ],
   "source": [
    "res.json()[\"message\"][\"content\"]"
   ]
  },
  {
   "cell_type": "markdown",
   "id": "49a1025e-f0b7-4e5c-b569-ffdc46413da3",
   "metadata": {},
   "source": [
    "# OLLAMA python sdk"
   ]
  },
  {
   "cell_type": "code",
   "execution_count": 20,
   "id": "c7f9ca84-c113-4034-91e4-21f1acfeb981",
   "metadata": {},
   "outputs": [],
   "source": [
    "import ollama"
   ]
  },
  {
   "cell_type": "code",
   "execution_count": 26,
   "id": "f2ba74ac-bb15-47f0-8d86-bd0c23233b10",
   "metadata": {},
   "outputs": [],
   "source": [
    "response = ollama.chat(model=\"llama3.2:1b\",\n",
    "           messages=[\n",
    "               {\n",
    "                   'role':'user',\n",
    "                   'content': \"What is 2+6?\"\n",
    "               }\n",
    "           ])"
   ]
  },
  {
   "cell_type": "code",
   "execution_count": 27,
   "id": "285e76dd-ea6b-45bd-8359-e382558a4bb7",
   "metadata": {},
   "outputs": [
    {
     "data": {
      "text/plain": [
       "ChatResponse(model='llama3.2:1b', created_at='2025-02-26T11:02:08.461537Z', done=True, done_reason='stop', total_duration=350211875, load_duration=49251041, prompt_eval_count=32, prompt_eval_duration=85000000, eval_count=9, eval_duration=211000000, message=Message(role='assistant', content='2 + 6 = 8.', images=None, tool_calls=None))"
      ]
     },
     "execution_count": 27,
     "metadata": {},
     "output_type": "execute_result"
    }
   ],
   "source": [
    "response"
   ]
  },
  {
   "cell_type": "code",
   "execution_count": 29,
   "id": "34ea591b-884b-49dc-a07e-fb648d125192",
   "metadata": {},
   "outputs": [
    {
     "data": {
      "text/plain": [
       "'2 + 6 = 8.'"
      ]
     },
     "execution_count": 29,
     "metadata": {},
     "output_type": "execute_result"
    }
   ],
   "source": [
    "response[\"message\"][\"content\"]"
   ]
  }
 ],
 "metadata": {
  "kernelspec": {
   "display_name": "Python 3 (ipykernel)",
   "language": "python",
   "name": "python3"
  },
  "language_info": {
   "codemirror_mode": {
    "name": "ipython",
    "version": 3
   },
   "file_extension": ".py",
   "mimetype": "text/x-python",
   "name": "python",
   "nbconvert_exporter": "python",
   "pygments_lexer": "ipython3",
   "version": "3.9.21"
  }
 },
 "nbformat": 4,
 "nbformat_minor": 5
}
